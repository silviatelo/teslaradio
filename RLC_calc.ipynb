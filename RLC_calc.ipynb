{
 "cells": [
  {
   "cell_type": "markdown",
   "metadata": {},
   "source": [
    "# This code calculates the resonant frequency of an RLC circuit, for a fixed L and variable capacitor.\n",
    "\n",
    "## It also calculates the inductance of a coil using its geometrical measures"
   ]
  },
  {
   "cell_type": "code",
   "execution_count": 48,
   "metadata": {
    "collapsed": true
   },
   "outputs": [],
   "source": [
    "import pandas as pd\n",
    "import datetime\n",
    "import csv\n",
    "import matplotlib\n",
    "import matplotlib.pyplot as plt\n",
    "import matplotlib.dates as mdates\n",
    "import math\n",
    "import numpy as np"
   ]
  },
  {
   "cell_type": "markdown",
   "metadata": {},
   "source": [
    "# Spooky Tesla Radio: L= 690 nH, C=60-141 pF \n",
    "## 500 - 800 kHz \n",
    "### Fixed inductance L= 680nH\n",
    "### Variable capacitance C= (10,..., 140 pF)"
   ]
  },
  {
   "cell_type": "code",
   "execution_count": 49,
   "metadata": {},
   "outputs": [
    {
     "name": "stdout",
     "output_type": "stream",
     "text": [
      "1e-11\n"
     ]
    }
   ],
   "source": [
    "#L = 1800E-6\n",
    "L = 680E-6 #inductance in H\n",
    "#C = 60E-12 #capacitance in F\n",
    "C = np.array([10E-12, 20E-12, 30E-12, 40E-12, 50E-12, 60E-12, 70E-12, 80E-12, 90E-12, 100E-12, 110E-12, 120E-12, 140E-12, 150E-12])\n",
    "print(C[0])"
   ]
  },
  {
   "cell_type": "code",
   "execution_count": 50,
   "metadata": {
    "scrolled": true
   },
   "outputs": [
    {
     "name": "stdout",
     "output_type": "stream",
     "text": [
      "Frequency [kHz]: 1930.03718002\n",
      "C value for fixed L: 1e-11\n",
      "Frequency [kHz]: 1364.74237793\n",
      "C value for fixed L: 2e-11\n",
      "Frequency [kHz]: 1114.30748543\n",
      "C value for fixed L: 3e-11\n",
      "Frequency [kHz]: 965.01859001\n",
      "C value for fixed L: 4e-11\n",
      "Frequency [kHz]: 863.138866726\n",
      "C value for fixed L: 5e-11\n",
      "Frequency [kHz]: 787.934379275\n",
      "C value for fixed L: 6e-11\n",
      "Frequency [kHz]: 729.485485635\n",
      "C value for fixed L: 7e-11\n",
      "Frequency [kHz]: 682.371188967\n",
      "C value for fixed L: 8e-11\n",
      "Frequency [kHz]: 643.345726674\n",
      "C value for fixed L: 9e-11\n",
      "Frequency [kHz]: 610.331345767\n",
      "C value for fixed L: 1e-10\n",
      "Frequency [kHz]: 581.928105233\n",
      "C value for fixed L: 1.1e-10\n",
      "Frequency [kHz]: 557.153742715\n",
      "C value for fixed L: 1.2e-10\n",
      "Frequency [kHz]: 515.824133669\n",
      "C value for fixed L: 1.4e-10\n",
      "Frequency [kHz]: 498.333457052\n",
      "C value for fixed L: 1.5e-10\n"
     ]
    },
    {
     "data": {
      "image/png": "[encoded data removed]",
      "text/plain": [
       "<matplotlib.figure.Figure at 0x114f74b70>"
      ]
     },
     "metadata": {},
     "output_type": "display_data"
    }
   ],
   "source": [
    "i=0;\n",
    "for i in range (14):\n",
    "    #plt.figure(1)\n",
    "    plt.xlabel('C')\n",
    "    plt.ylabel('Frequency (kHz)')\n",
    "    fr=(1E-3)*(1/(2*np.pi*np.sqrt(L*C[i])))\n",
    "    print (\"Frequency [kHz]:\" ,fr) #print for kHz\n",
    "    print(\"C value for fixed L:\",C[i])\n",
    "    plt.plot(C[i], fr, 'ro')\n",
    "    \n",
    "#Legend and limits\n",
    "plt.legend(loc=3,fancybox=True,shadow=True)\n",
    "#plt.xlim(7e-15, 1e-13)\n",
    "#plt.ylim(400, 2000)\n",
    "plt.show()\n"
   ]
  },
  {
   "cell_type": "markdown",
   "metadata": {
    "collapsed": true
   },
   "source": [
    "# Inductance L according to geometrical properties of the coil"
   ]
  },
  {
   "cell_type": "code",
   "execution_count": 52,
   "metadata": {},
   "outputs": [
    {
     "name": "stdout",
     "output_type": "stream",
     "text": [
      "area: 0.00125663706144\n",
      "L: 698.262949557 uH\n",
      "0.000698262949557 H\n"
     ]
    }
   ],
   "source": [
    "mu_R = 1 # permitividad electrica del aire\n",
    "turns = 210\n",
    "radius = 0.02 # in meters\n",
    "area = np.pi*np.square(radius)\n",
    "print(\"area:\",area)\n",
    "length = 0.1 #in meters\n",
    "\n",
    "L_coil = mu_R*(np.divide((np.square(turns)*area),length))*1.26E-6\n",
    "print(\"L:\", L_coil*1E6 ,\"uH\")\n",
    "print(L_coil ,\"H\")\n"
   ]
  }
 ],
 "metadata": {
  "kernelspec": {
   "display_name": "Python 3",
   "language": "python",
   "name": "python3"
  },
  "language_info": {
   "codemirror_mode": {
    "name": "ipython",
    "version": 3
   },
   "file_extension": ".py",
   "mimetype": "text/x-python",
   "name": "python",
   "nbconvert_exporter": "python",
   "pygments_lexer": "ipython3",
   "version": "3.6.3"
  }
 },
 "nbformat": 4,
 "nbformat_minor": 2
}
